{
 "cells": [
  {
   "cell_type": "code",
   "execution_count": 2,
   "id": "04d5214a-3baa-4309-949e-6b5431aff08e",
   "metadata": {},
   "outputs": [],
   "source": [
    "import os\n",
    "import json\n",
    "from dotenv import load_dotenv\n",
    "from openai import OpenAI\n",
    "import gradio as gr"
   ]
  },
  {
   "cell_type": "code",
   "execution_count": 3,
   "id": "27a661e2-88f7-4cf7-aa66-2619cfed7a29",
   "metadata": {},
   "outputs": [
    {
     "name": "stdout",
     "output_type": "stream",
     "text": [
      "OpenAI API Key exists and begins sk-proj-\n"
     ]
    }
   ],
   "source": [
    "load_dotenv(override=True)\n",
    "\n",
    "openai_api_key = os.getenv('OPENAI_API_KEY')\n",
    "if openai_api_key:\n",
    "    print(f\"OpenAI API Key exists and begins {openai_api_key[:8]}\")\n",
    "else:\n",
    "    print(\"OpenAI API Key not set\")\n",
    "    \n",
    "MODEL = \"gpt-4o-mini\"\n",
    "openai = OpenAI()"
   ]
  },
  {
   "cell_type": "code",
   "execution_count": 4,
   "id": "9b2941fe-bd2f-4ae0-b60a-d53151bb06b8",
   "metadata": {},
   "outputs": [],
   "source": [
    "system_message = \"You are a helpful assistant for an Airline called FlightAI. \"\n",
    "system_message += \"Give short, courteous answers, no more than 1 sentence. \"\n",
    "system_message += \"Always be accurate. If you don't know the answer, say so.\""
   ]
  },
  {
   "cell_type": "code",
   "execution_count": 5,
   "id": "09abc243-44a6-4cf9-8be2-513ce0795707",
   "metadata": {},
   "outputs": [
    {
     "name": "stdout",
     "output_type": "stream",
     "text": [
      "* Running on local URL:  http://127.0.0.1:7860\n",
      "* To create a public link, set `share=True` in `launch()`.\n"
     ]
    },
    {
     "data": {
      "text/html": [
       "<div><iframe src=\"http://127.0.0.1:7860/\" width=\"100%\" height=\"500\" allow=\"autoplay; camera; microphone; clipboard-read; clipboard-write;\" frameborder=\"0\" allowfullscreen></iframe></div>"
      ],
      "text/plain": [
       "<IPython.core.display.HTML object>"
      ]
     },
     "metadata": {},
     "output_type": "display_data"
    },
    {
     "data": {
      "text/plain": []
     },
     "execution_count": 5,
     "metadata": {},
     "output_type": "execute_result"
    }
   ],
   "source": [
    "# This function looks rather simpler than the one from my video, because we're taking advantage of the latest Gradio updates\n",
    "\n",
    "def chat(message, history):\n",
    "    messages = [{\"role\": \"system\", \"content\": system_message}] + history + [{\"role\": \"user\", \"content\": message}]\n",
    "    response = openai.chat.completions.create(model=MODEL, messages=messages)\n",
    "    return response.choices[0].message.content\n",
    "\n",
    "gr.ChatInterface(fn=chat, type=\"messages\").launch()"
   ]
  },
  {
   "cell_type": "code",
   "execution_count": 6,
   "id": "8db71eca-3638-4c26-8d99-6628592654ee",
   "metadata": {},
   "outputs": [
    {
     "name": "stderr",
     "output_type": "stream",
     "text": [
      "D:\\gen-ai\\anaconda\\envs\\llms\\Lib\\site-packages\\gradio\\chat_interface.py:348: UserWarning: The 'tuples' format for chatbot messages is deprecated and will be removed in a future version of Gradio. Please set type='messages' instead, which uses openai-style 'role' and 'content' keys.\n",
      "  self.chatbot = Chatbot(\n"
     ]
    },
    {
     "name": "stdout",
     "output_type": "stream",
     "text": [
      "* Running on local URL:  http://127.0.0.1:7861\n",
      "* To create a public link, set `share=True` in `launch()`.\n"
     ]
    },
    {
     "data": {
      "text/html": [
       "<div><iframe src=\"http://127.0.0.1:7861/\" width=\"100%\" height=\"500\" allow=\"autoplay; camera; microphone; clipboard-read; clipboard-write;\" frameborder=\"0\" allowfullscreen></iframe></div>"
      ],
      "text/plain": [
       "<IPython.core.display.HTML object>"
      ]
     },
     "metadata": {},
     "output_type": "display_data"
    },
    {
     "data": {
      "text/plain": []
     },
     "execution_count": 6,
     "metadata": {},
     "output_type": "execute_result"
    }
   ],
   "source": [
    "def chat(message,history):\n",
    "    messages =[{\"role\":\"system\",\"content\":system_message}]\n",
    "    for human, assistant in history:\n",
    "        messages.append({\"role\":\"user\",\"content\":human})\n",
    "        messages.appenf({\"role\":\"assistant\",\"content\":assistant})\n",
    "    messages.append({\"role\":\"user\",\"content\":message})\n",
    "    respose =openai.chat.completions.create(model=MODEL,messages=messages)\n",
    "    return response.choices[0].message.content\n",
    "\n",
    "\n",
    "gr.ChatInterface(fn=chat).launch()\n",
    "    "
   ]
  },
  {
   "cell_type": "code",
   "execution_count": 7,
   "id": "2ae9f460-7d77-45ce-aec8-b51e7111f039",
   "metadata": {},
   "outputs": [],
   "source": [
    "ticket_prices ={\"usa\":\"$100\",\"london\":\"$90\",\"australia\":\"$150\",\"tokyo\":\"$180\"}\n",
    "def get_ticket_price(destination):\n",
    "    \n",
    "    city =destination.lower()\n",
    "    print(f\"the ticket price for {destination} is : \")\n",
    "    return ticket_prices.get(city,\"unknown\")"
   ]
  },
  {
   "cell_type": "code",
   "execution_count": 8,
   "id": "02580875-c1f4-479e-be7b-25950064d159",
   "metadata": {},
   "outputs": [
    {
     "name": "stdout",
     "output_type": "stream",
     "text": [
      "the ticket price for usa is : \n"
     ]
    },
    {
     "data": {
      "text/plain": [
       "'$100'"
      ]
     },
     "execution_count": 8,
     "metadata": {},
     "output_type": "execute_result"
    }
   ],
   "source": [
    "get_ticket_price(\"usa\")"
   ]
  },
  {
   "cell_type": "code",
   "execution_count": 9,
   "id": "313637a9-d9a8-4261-9ef7-0499441533c7",
   "metadata": {},
   "outputs": [],
   "source": [
    "# There's a particular dictionary structure that's required to describe our function:\n",
    "\n",
    "price_function = {\n",
    "    \"name\": \"get_ticket_price\",\n",
    "    \"description\": \"Get the price of a return ticket to the destination city. Call this whenever you need to know the ticket price, for example when a customer asks 'How much is a ticket to this city'\",\n",
    "    \"parameters\": {\n",
    "        \"type\": \"object\",\n",
    "        \"properties\": {\n",
    "            \"destination\": {\n",
    "                \"type\": \"string\",\n",
    "                \"description\": \"The city that the customer wants to travel to\",\n",
    "            },\n",
    "        },\n",
    "        \"required\": [\"destination\"],\n",
    "        \"additionalProperties\": False\n",
    "    }\n",
    "}"
   ]
  },
  {
   "cell_type": "code",
   "execution_count": 10,
   "id": "5814f066-3d3b-4cac-a935-553bb696bf85",
   "metadata": {},
   "outputs": [],
   "source": [
    "tools =[{\"type\":\"function\",\"function\":price_function}]"
   ]
  },
  {
   "cell_type": "code",
   "execution_count": 11,
   "id": "ca36b17a-6ec7-442c-b2be-0550ca391a52",
   "metadata": {},
   "outputs": [],
   "source": [
    "def chat(message,history):\n",
    "    messages =[{\"role\":\"system\",\"content\":system_message}] +history+[{\"role\":\"user\",\"content\":message}]\n",
    "    response =openai.chat.completions.create(model=MODEL,messages =messages,tools=tools)\n",
    "\n",
    "    if response.choices[0].finish_reason=='tool_calls':\n",
    "        message =response.choices[0].message\n",
    "        response,city =handle_tool_call(message)\n",
    "        messages.append(message)\n",
    "        messages.append(response)\n",
    "        response =openai.chat.completions.create(model=MODEL,messages=messages)\n",
    "    return response.choices[0].message.content"
   ]
  },
  {
   "cell_type": "code",
   "execution_count": 12,
   "id": "4aef2be0-1fcb-4077-af72-2a044b9ac666",
   "metadata": {},
   "outputs": [],
   "source": [
    "def handle_tool_call(message):\n",
    "    tool_call = message.tool_calls[0]\n",
    "    arguments = json.loads(tool_call.function.arguments)\n",
    "    city = arguments.get('destination')\n",
    "    price = get_ticket_price(city)\n",
    "    response = {\n",
    "        \"role\": \"tool\",\n",
    "        \"content\": json.dumps({\"destination_city\": city,\"price\": price}),\n",
    "        \"tool_call_id\": tool_call.id\n",
    "    }\n",
    "    return response, city\n",
    "    "
   ]
  },
  {
   "cell_type": "code",
   "execution_count": 13,
   "id": "f5bdfc85-d93f-48a4-ad15-3e38ea1aaf49",
   "metadata": {},
   "outputs": [
    {
     "name": "stdout",
     "output_type": "stream",
     "text": [
      "Requirement already satisfied: intel-gradio-theme in d:\\gen-ai\\anaconda\\envs\\llms\\lib\\site-packages (1.0.0)\n",
      "Requirement already satisfied: gradio>=4.0.0 in d:\\gen-ai\\anaconda\\envs\\llms\\lib\\site-packages (from intel-gradio-theme) (5.46.0)\n",
      "Requirement already satisfied: aiofiles<25.0,>=22.0 in d:\\gen-ai\\anaconda\\envs\\llms\\lib\\site-packages (from gradio>=4.0.0->intel-gradio-theme) (24.1.0)\n",
      "Requirement already satisfied: anyio<5.0,>=3.0 in d:\\gen-ai\\anaconda\\envs\\llms\\lib\\site-packages (from gradio>=4.0.0->intel-gradio-theme) (4.10.0)\n",
      "Requirement already satisfied: brotli>=1.1.0 in d:\\gen-ai\\anaconda\\envs\\llms\\lib\\site-packages (from gradio>=4.0.0->intel-gradio-theme) (1.1.0)\n",
      "Requirement already satisfied: fastapi<1.0,>=0.115.2 in d:\\gen-ai\\anaconda\\envs\\llms\\lib\\site-packages (from gradio>=4.0.0->intel-gradio-theme) (0.115.9)\n",
      "Requirement already satisfied: ffmpy in d:\\gen-ai\\anaconda\\envs\\llms\\lib\\site-packages (from gradio>=4.0.0->intel-gradio-theme) (0.6.1)\n",
      "Requirement already satisfied: gradio-client==1.13.0 in d:\\gen-ai\\anaconda\\envs\\llms\\lib\\site-packages (from gradio>=4.0.0->intel-gradio-theme) (1.13.0)\n",
      "Requirement already satisfied: groovy~=0.1 in d:\\gen-ai\\anaconda\\envs\\llms\\lib\\site-packages (from gradio>=4.0.0->intel-gradio-theme) (0.1.2)\n",
      "Requirement already satisfied: httpx<1.0,>=0.24.1 in d:\\gen-ai\\anaconda\\envs\\llms\\lib\\site-packages (from gradio>=4.0.0->intel-gradio-theme) (0.28.1)\n",
      "Requirement already satisfied: huggingface-hub<1.0,>=0.33.5 in d:\\gen-ai\\anaconda\\envs\\llms\\lib\\site-packages (from gradio>=4.0.0->intel-gradio-theme) (0.35.0)\n",
      "Requirement already satisfied: jinja2<4.0 in d:\\gen-ai\\anaconda\\envs\\llms\\lib\\site-packages (from gradio>=4.0.0->intel-gradio-theme) (3.1.6)\n",
      "Requirement already satisfied: markupsafe<4.0,>=2.0 in d:\\gen-ai\\anaconda\\envs\\llms\\lib\\site-packages (from gradio>=4.0.0->intel-gradio-theme) (3.0.2)\n",
      "Requirement already satisfied: numpy<3.0,>=1.0 in d:\\gen-ai\\anaconda\\envs\\llms\\lib\\site-packages (from gradio>=4.0.0->intel-gradio-theme) (1.26.4)\n",
      "Requirement already satisfied: orjson~=3.0 in d:\\gen-ai\\anaconda\\envs\\llms\\lib\\site-packages (from gradio>=4.0.0->intel-gradio-theme) (3.11.3)\n",
      "Requirement already satisfied: packaging in d:\\gen-ai\\anaconda\\envs\\llms\\lib\\site-packages (from gradio>=4.0.0->intel-gradio-theme) (25.0)\n",
      "Requirement already satisfied: pandas<3.0,>=1.0 in d:\\gen-ai\\anaconda\\envs\\llms\\lib\\site-packages (from gradio>=4.0.0->intel-gradio-theme) (2.3.2)\n",
      "Requirement already satisfied: pillow<12.0,>=8.0 in d:\\gen-ai\\anaconda\\envs\\llms\\lib\\site-packages (from gradio>=4.0.0->intel-gradio-theme) (11.3.0)\n",
      "Requirement already satisfied: pydantic<2.12,>=2.0 in d:\\gen-ai\\anaconda\\envs\\llms\\lib\\site-packages (from gradio>=4.0.0->intel-gradio-theme) (2.11.9)\n",
      "Requirement already satisfied: pydub in d:\\gen-ai\\anaconda\\envs\\llms\\lib\\site-packages (from gradio>=4.0.0->intel-gradio-theme) (0.25.1)\n",
      "Requirement already satisfied: python-multipart>=0.0.18 in d:\\gen-ai\\anaconda\\envs\\llms\\lib\\site-packages (from gradio>=4.0.0->intel-gradio-theme) (0.0.20)\n",
      "Requirement already satisfied: pyyaml<7.0,>=5.0 in d:\\gen-ai\\anaconda\\envs\\llms\\lib\\site-packages (from gradio>=4.0.0->intel-gradio-theme) (6.0.2)\n",
      "Requirement already satisfied: ruff>=0.9.3 in d:\\gen-ai\\anaconda\\envs\\llms\\lib\\site-packages (from gradio>=4.0.0->intel-gradio-theme) (0.13.1)\n",
      "Requirement already satisfied: safehttpx<0.2.0,>=0.1.6 in d:\\gen-ai\\anaconda\\envs\\llms\\lib\\site-packages (from gradio>=4.0.0->intel-gradio-theme) (0.1.6)\n",
      "Requirement already satisfied: semantic-version~=2.0 in d:\\gen-ai\\anaconda\\envs\\llms\\lib\\site-packages (from gradio>=4.0.0->intel-gradio-theme) (2.10.0)\n",
      "Requirement already satisfied: starlette<1.0,>=0.40.0 in d:\\gen-ai\\anaconda\\envs\\llms\\lib\\site-packages (from gradio>=4.0.0->intel-gradio-theme) (0.45.3)\n",
      "Requirement already satisfied: tomlkit<0.14.0,>=0.12.0 in d:\\gen-ai\\anaconda\\envs\\llms\\lib\\site-packages (from gradio>=4.0.0->intel-gradio-theme) (0.13.3)\n",
      "Requirement already satisfied: typer<1.0,>=0.12 in d:\\gen-ai\\anaconda\\envs\\llms\\lib\\site-packages (from gradio>=4.0.0->intel-gradio-theme) (0.17.4)\n",
      "Requirement already satisfied: typing-extensions~=4.0 in d:\\gen-ai\\anaconda\\envs\\llms\\lib\\site-packages (from gradio>=4.0.0->intel-gradio-theme) (4.15.0)\n",
      "Requirement already satisfied: uvicorn>=0.14.0 in d:\\gen-ai\\anaconda\\envs\\llms\\lib\\site-packages (from gradio>=4.0.0->intel-gradio-theme) (0.35.0)\n",
      "Requirement already satisfied: fsspec in d:\\gen-ai\\anaconda\\envs\\llms\\lib\\site-packages (from gradio-client==1.13.0->gradio>=4.0.0->intel-gradio-theme) (2025.3.0)\n",
      "Requirement already satisfied: websockets<16.0,>=10.0 in d:\\gen-ai\\anaconda\\envs\\llms\\lib\\site-packages (from gradio-client==1.13.0->gradio>=4.0.0->intel-gradio-theme) (15.0.1)\n",
      "Requirement already satisfied: idna>=2.8 in d:\\gen-ai\\anaconda\\envs\\llms\\lib\\site-packages (from anyio<5.0,>=3.0->gradio>=4.0.0->intel-gradio-theme) (3.10)\n",
      "Requirement already satisfied: sniffio>=1.1 in d:\\gen-ai\\anaconda\\envs\\llms\\lib\\site-packages (from anyio<5.0,>=3.0->gradio>=4.0.0->intel-gradio-theme) (1.3.1)\n",
      "Requirement already satisfied: certifi in d:\\gen-ai\\anaconda\\envs\\llms\\lib\\site-packages (from httpx<1.0,>=0.24.1->gradio>=4.0.0->intel-gradio-theme) (2025.8.3)\n",
      "Requirement already satisfied: httpcore==1.* in d:\\gen-ai\\anaconda\\envs\\llms\\lib\\site-packages (from httpx<1.0,>=0.24.1->gradio>=4.0.0->intel-gradio-theme) (1.0.9)\n",
      "Requirement already satisfied: h11>=0.16 in d:\\gen-ai\\anaconda\\envs\\llms\\lib\\site-packages (from httpcore==1.*->httpx<1.0,>=0.24.1->gradio>=4.0.0->intel-gradio-theme) (0.16.0)\n",
      "Requirement already satisfied: filelock in d:\\gen-ai\\anaconda\\envs\\llms\\lib\\site-packages (from huggingface-hub<1.0,>=0.33.5->gradio>=4.0.0->intel-gradio-theme) (3.19.1)\n",
      "Requirement already satisfied: requests in d:\\gen-ai\\anaconda\\envs\\llms\\lib\\site-packages (from huggingface-hub<1.0,>=0.33.5->gradio>=4.0.0->intel-gradio-theme) (2.32.5)\n",
      "Requirement already satisfied: tqdm>=4.42.1 in d:\\gen-ai\\anaconda\\envs\\llms\\lib\\site-packages (from huggingface-hub<1.0,>=0.33.5->gradio>=4.0.0->intel-gradio-theme) (4.67.1)\n",
      "Requirement already satisfied: python-dateutil>=2.8.2 in d:\\gen-ai\\anaconda\\envs\\llms\\lib\\site-packages (from pandas<3.0,>=1.0->gradio>=4.0.0->intel-gradio-theme) (2.9.0.post0)\n",
      "Requirement already satisfied: pytz>=2020.1 in d:\\gen-ai\\anaconda\\envs\\llms\\lib\\site-packages (from pandas<3.0,>=1.0->gradio>=4.0.0->intel-gradio-theme) (2025.2)\n",
      "Requirement already satisfied: tzdata>=2022.7 in d:\\gen-ai\\anaconda\\envs\\llms\\lib\\site-packages (from pandas<3.0,>=1.0->gradio>=4.0.0->intel-gradio-theme) (2025.2)\n",
      "Requirement already satisfied: annotated-types>=0.6.0 in d:\\gen-ai\\anaconda\\envs\\llms\\lib\\site-packages (from pydantic<2.12,>=2.0->gradio>=4.0.0->intel-gradio-theme) (0.7.0)\n",
      "Requirement already satisfied: pydantic-core==2.33.2 in d:\\gen-ai\\anaconda\\envs\\llms\\lib\\site-packages (from pydantic<2.12,>=2.0->gradio>=4.0.0->intel-gradio-theme) (2.33.2)\n",
      "Requirement already satisfied: typing-inspection>=0.4.0 in d:\\gen-ai\\anaconda\\envs\\llms\\lib\\site-packages (from pydantic<2.12,>=2.0->gradio>=4.0.0->intel-gradio-theme) (0.4.1)\n",
      "Requirement already satisfied: click>=8.0.0 in d:\\gen-ai\\anaconda\\envs\\llms\\lib\\site-packages (from typer<1.0,>=0.12->gradio>=4.0.0->intel-gradio-theme) (8.2.1)\n",
      "Requirement already satisfied: shellingham>=1.3.0 in d:\\gen-ai\\anaconda\\envs\\llms\\lib\\site-packages (from typer<1.0,>=0.12->gradio>=4.0.0->intel-gradio-theme) (1.5.4)\n",
      "Requirement already satisfied: rich>=10.11.0 in d:\\gen-ai\\anaconda\\envs\\llms\\lib\\site-packages (from typer<1.0,>=0.12->gradio>=4.0.0->intel-gradio-theme) (14.1.0)\n",
      "Requirement already satisfied: colorama in d:\\gen-ai\\anaconda\\envs\\llms\\lib\\site-packages (from click>=8.0.0->typer<1.0,>=0.12->gradio>=4.0.0->intel-gradio-theme) (0.4.6)\n",
      "Requirement already satisfied: six>=1.5 in d:\\gen-ai\\anaconda\\envs\\llms\\lib\\site-packages (from python-dateutil>=2.8.2->pandas<3.0,>=1.0->gradio>=4.0.0->intel-gradio-theme) (1.17.0)\n",
      "Requirement already satisfied: markdown-it-py>=2.2.0 in d:\\gen-ai\\anaconda\\envs\\llms\\lib\\site-packages (from rich>=10.11.0->typer<1.0,>=0.12->gradio>=4.0.0->intel-gradio-theme) (4.0.0)\n",
      "Requirement already satisfied: pygments<3.0.0,>=2.13.0 in d:\\gen-ai\\anaconda\\envs\\llms\\lib\\site-packages (from rich>=10.11.0->typer<1.0,>=0.12->gradio>=4.0.0->intel-gradio-theme) (2.19.2)\n",
      "Requirement already satisfied: mdurl~=0.1 in d:\\gen-ai\\anaconda\\envs\\llms\\lib\\site-packages (from markdown-it-py>=2.2.0->rich>=10.11.0->typer<1.0,>=0.12->gradio>=4.0.0->intel-gradio-theme) (0.1.2)\n",
      "Requirement already satisfied: charset_normalizer<4,>=2 in d:\\gen-ai\\anaconda\\envs\\llms\\lib\\site-packages (from requests->huggingface-hub<1.0,>=0.33.5->gradio>=4.0.0->intel-gradio-theme) (3.4.3)\n",
      "Requirement already satisfied: urllib3<3,>=1.21.1 in d:\\gen-ai\\anaconda\\envs\\llms\\lib\\site-packages (from requests->huggingface-hub<1.0,>=0.33.5->gradio>=4.0.0->intel-gradio-theme) (2.5.0)\n"
     ]
    }
   ],
   "source": [
    "!pip install intel-gradio-theme\n"
   ]
  },
  {
   "cell_type": "code",
   "execution_count": 25,
   "id": "023f9ff8-2571-4baa-ba31-6b87fa6e52aa",
   "metadata": {},
   "outputs": [
    {
     "name": "stdout",
     "output_type": "stream",
     "text": [
      "Requirement already satisfied: aina-gradio-theme in d:\\gen-ai\\anaconda\\envs\\llms\\lib\\site-packages (2.3)\n"
     ]
    }
   ],
   "source": [
    "!pip install aina-gradio-theme\n"
   ]
  },
  {
   "cell_type": "code",
   "execution_count": 31,
   "id": "e465f03e-d130-466f-8d46-e16a0b398902",
   "metadata": {},
   "outputs": [
    {
     "name": "stdout",
     "output_type": "stream",
     "text": [
      "* Running on local URL:  http://127.0.0.1:7862\n",
      "* To create a public link, set `share=True` in `launch()`.\n"
     ]
    },
    {
     "data": {
      "text/html": [
       "<div><iframe src=\"http://127.0.0.1:7862/\" width=\"100%\" height=\"500\" allow=\"autoplay; camera; microphone; clipboard-read; clipboard-write;\" frameborder=\"0\" allowfullscreen></iframe></div>"
      ],
      "text/plain": [
       "<IPython.core.display.HTML object>"
      ]
     },
     "metadata": {},
     "output_type": "display_data"
    },
    {
     "data": {
      "text/plain": []
     },
     "execution_count": 31,
     "metadata": {},
     "output_type": "execute_result"
    },
    {
     "name": "stdout",
     "output_type": "stream",
     "text": [
      "the ticket price for London is : \n",
      "the ticket price for Australia is : \n"
     ]
    }
   ],
   "source": [
    "\n",
    "import gradio as gr\n",
    "\n",
    "import AinaTheme\n",
    "\n",
    "gr.ChatInterface(fn=chat,type=\"messages\",title=\"AIRLINE AI ASSISTANT\",description=\"ASK ANYTHING ABOUT YOUR JOURNEY\",theme=\"soft\").launch()"
   ]
  },
  {
   "cell_type": "code",
   "execution_count": 34,
   "id": "7aaaf28c-2a0e-4387-a5fd-b013bb966ffa",
   "metadata": {},
   "outputs": [],
   "source": []
  },
  {
   "cell_type": "code",
   "execution_count": null,
   "id": "66669a17-e3f7-44fe-b0a8-53d01764cb2f",
   "metadata": {},
   "outputs": [],
   "source": [
    "def artist(city):\n",
    "    image_response=openai.images.generate"
   ]
  }
 ],
 "metadata": {
  "kernelspec": {
   "display_name": "Python 3 (ipykernel)",
   "language": "python",
   "name": "python3"
  },
  "language_info": {
   "codemirror_mode": {
    "name": "ipython",
    "version": 3
   },
   "file_extension": ".py",
   "mimetype": "text/x-python",
   "name": "python",
   "nbconvert_exporter": "python",
   "pygments_lexer": "ipython3",
   "version": "3.11.13"
  }
 },
 "nbformat": 4,
 "nbformat_minor": 5
}
